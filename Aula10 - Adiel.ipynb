{
 "cells": [
  {
   "cell_type": "markdown",
   "metadata": {},
   "source": [
    "Atividade da Aula 10 - Matemática Computacional - Adiel Dos Santos Nascimento - 201504940002"
   ]
  },
  {
   "cell_type": "markdown",
   "metadata": {},
   "source": [
    "Referência : https://www.ufrgs.br/reamat/CalculoNumerico/livro-py/livro-py.pdf"
   ]
  },
  {
   "cell_type": "code",
   "execution_count": 3,
   "metadata": {},
   "outputs": [],
   "source": [
    "#Importações necessárias\n",
    "import numpy as np"
   ]
  },
  {
   "cell_type": "markdown",
   "metadata": {},
   "source": [
    "Tarefa 1:"
   ]
  },
  {
   "cell_type": "code",
   "execution_count": 17,
   "metadata": {},
   "outputs": [
    {
     "name": "stdout",
     "output_type": "stream",
     "text": [
      "------------ Matriz Inicial -----------\n",
      "[[ 1.          0.          0.        ]\n",
      " [-0.33333333  1.          0.        ]\n",
      " [-1.33333333  0.          1.        ]]\n",
      "\n",
      "\n",
      "------------ Matriz Final -----------\n",
      "[[ 3.          2.          4.        ]\n",
      " [ 0.          0.33333333  0.66666667]\n",
      " [ 0.          0.33333333 -3.33333333]]\n"
     ]
    }
   ],
   "source": [
    "def calcularM(MatrizA,n): \n",
    "    matriz12 = MatrizA[ 2 - 1, 1 - 1 ] / MatrizA[ 1 - 1, 1-1 ]\n",
    "    matriz21 = MatrizA[ 3 - 1, 1 - 1 ] / MatrizA[ 1 - 1, 1-1 ] \n",
    "    \n",
    "    return matriz12, matriz21\n",
    "  \n",
    "A = np.matrix([[3,2,4],[1,1,2],[4,3,2]])\n",
    "n = np.shape(A)[0] - 1\n",
    "\n",
    "a, b = calcularM(A,n)\n",
    "\n",
    "M = np.matrix([[1,0,0],[(a*(-1)),1,0],[(b*(-1)),0,1]])\n",
    "matrizFinal = M * A\n",
    "\n",
    "print('------------ Matriz Inicial -----------')\n",
    "print(M)\n",
    "print('\\n')\n",
    "\n",
    "print('------------ Matriz Final -----------')\n",
    "print(matrizFinal)"
   ]
  },
  {
   "cell_type": "markdown",
   "metadata": {},
   "source": [
    "Tarefa 2"
   ]
  },
  {
   "cell_type": "code",
   "execution_count": 19,
   "metadata": {},
   "outputs": [
    {
     "name": "stdout",
     "output_type": "stream",
     "text": [
      "------------ Matriz Usando dot -----------\n",
      "[[ 1.33333333  0.          0.        ]\n",
      " [-0.44444444  1.33333333  0.        ]\n",
      " [-1.77777778  0.          1.33333333]]\n"
     ]
    }
   ],
   "source": [
    "def calcularM(MatrizA,n): \n",
    "    matriz12 = MatrizA[ 2 - 1, 1 - 1 ] / MatrizA[ 1 - 1, 1-1 ]\n",
    "    matriz21 = MatrizA[ 3 - 1, 1 - 1 ] / MatrizA[ 1 - 1, 1-1 ] \n",
    "    \n",
    "    return matriz12, matriz21\n",
    "  \n",
    "A = np.matrix([[3,2,4],[1,1,2],[4,3,-2]])\n",
    "b = np.array([1,2,3])\n",
    "\n",
    "n = np.shape(A)[0] - 1\n",
    "a,b = calcularM(A,n)\n",
    "M = np.matrix([[1,0,0],[(a*(-1)),1,0],[(b*(-1)),0,1]])\n",
    "\n",
    "print('------------ Matriz Usando dot -----------')\n",
    "print(np.dot(M,b))"
   ]
  },
  {
   "cell_type": "code",
   "execution_count": null,
   "metadata": {},
   "outputs": [],
   "source": []
  },
  {
   "cell_type": "code",
   "execution_count": 7,
   "metadata": {},
   "outputs": [
    {
     "name": "stdout",
     "output_type": "stream",
     "text": [
      "Resultado:\n",
      "[[ 0.   0.   0. ]\n",
      " [ 0.   0.5  0. ]\n",
      " [ 0.  -1.5  3. ]]\n"
     ]
    }
   ],
   "source": [
    "def calculaMulti(A):\n",
    "    Matriz1 = np.zeros(np.shape(A)[0])\n",
    "    \n",
    "    for i in range(1, np.shape(A)[0]):\n",
    "        Matriz1[i] = A[i,1]/A[i-1,1]\n",
    "    \n",
    "    Matriz2 = np.zeros((np.shape(A)[0], np.shape(A)[1]))\n",
    "    \n",
    "    for i in range(0, np.shape(A)[0]):\n",
    "        Matriz2[i,i] = 1\n",
    "    \n",
    "    for i in range(2, np.shape(A)[0]):\n",
    "        Matriz2[i,1] = -Matriz1[i]\n",
    "    \n",
    "    MatrizResultado = Matriz1 * Matriz2\n",
    "    return MatrizResultado\n",
    "\n",
    "A = np.matrix([[3,2,4], [1,1,2], [4,3,-2]])\n",
    "\n",
    "print('Resultado:')\n",
    "print (calculaMulti(A))\n",
    "    \n",
    "    \n",
    "    "
   ]
  },
  {
   "cell_type": "code",
   "execution_count": 12,
   "metadata": {},
   "outputs": [
    {
     "name": "stdout",
     "output_type": "stream",
     "text": [
      "Resultado:\n",
      "(array([[1.        , 0.        , 0.        ],\n",
      "       [0.33333333, 1.        , 0.        ],\n",
      "       [1.33333333, 1.        , 1.        ]]), array([[ 3.        ,  2.        ,  4.        ],\n",
      "       [ 0.        ,  0.33333333,  0.66666667],\n",
      "       [ 0.        ,  0.        , -8.        ]]))\n"
     ]
    }
   ],
   "source": [
    "def fatoraLU(A):\n",
    "    U = np.copy(A)\n",
    "    n = np.shape(U)[0]\n",
    "    L = np.eye(n)\n",
    "    for j in np.arange(n-1):\n",
    "            for i in np.arange(j+1,n):\n",
    "                L[i,j] = U[i,j]/U[j,j]\n",
    "                for k in np.arange(j+1,n):\n",
    "                    U[i,k] = U[i,k] - L[i,j]*U[j,k]\n",
    "                U[i,j] = 0\n",
    "    return L, U\n",
    "    \n",
    "    \n",
    "A = np.matrix([[3,2,4], [1,1,2], [4,3,-2]],dtype=float)\n",
    "b = np.array([1,2,3])\n",
    "\n",
    "print('Resultado:')\n",
    "print (fatoraLU(A))"
   ]
  }
 ],
 "metadata": {
  "kernelspec": {
   "display_name": "Python 3",
   "language": "python",
   "name": "python3"
  },
  "language_info": {
   "codemirror_mode": {
    "name": "ipython",
    "version": 3
   },
   "file_extension": ".py",
   "mimetype": "text/x-python",
   "name": "python",
   "nbconvert_exporter": "python",
   "pygments_lexer": "ipython3",
   "version": "3.7.0"
  }
 },
 "nbformat": 4,
 "nbformat_minor": 2
}
